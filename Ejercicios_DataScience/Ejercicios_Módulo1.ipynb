{
 "cells": [
  {
   "cell_type": "markdown",
   "metadata": {},
   "source": [
    "### Ejercicios de strings"
   ]
  },
  {
   "cell_type": "code",
   "execution_count": 1,
   "metadata": {},
   "outputs": [
    {
     "name": "stdout",
     "output_type": "stream",
     "text": [
      "Nunca confies en un ordenador que no puedas lanzar por una ventana -- Steve Wozniak\n"
     ]
    }
   ],
   "source": [
    "frase = \"Nunca confies en un ordenador que no puedas lanzar por una ventana -- Steve Wozniak\"\n",
    "\n",
    "print(frase)"
   ]
  },
  {
   "cell_type": "markdown",
   "metadata": {},
   "source": [
    "### Ejercicio 1\n",
    "- Obtener el largo de la frase."
   ]
  },
  {
   "cell_type": "code",
   "execution_count": 2,
   "metadata": {},
   "outputs": [
    {
     "data": {
      "text/plain": [
       "83"
      ]
     },
     "execution_count": 2,
     "metadata": {},
     "output_type": "execute_result"
    }
   ],
   "source": [
    "len(frase)"
   ]
  },
  {
   "cell_type": "markdown",
   "metadata": {},
   "source": [
    "### Ejercicio 2\n",
    "- Obtener la frase **\"lanzar por la ventana\"** usando slicing."
   ]
  },
  {
   "cell_type": "code",
   "execution_count": 3,
   "metadata": {},
   "outputs": [
    {
     "data": {
      "text/plain": [
       "44"
      ]
     },
     "execution_count": 3,
     "metadata": {},
     "output_type": "execute_result"
    }
   ],
   "source": [
    "posicion_inicial = frase.index(\"lanzar por una ventana\")\n",
    "\n",
    "posicion_inicial"
   ]
  },
  {
   "cell_type": "code",
   "execution_count": 4,
   "metadata": {},
   "outputs": [
    {
     "data": {
      "text/plain": [
       "66"
      ]
     },
     "execution_count": 4,
     "metadata": {},
     "output_type": "execute_result"
    }
   ],
   "source": [
    "\n",
    "posicion_final = posicion_inicial + len(\"lanzar por una ventana\")\n",
    "\n",
    "posicion_final"
   ]
  },
  {
   "cell_type": "code",
   "execution_count": 5,
   "metadata": {},
   "outputs": [
    {
     "data": {
      "text/plain": [
       "'lanzar por una ventana'"
      ]
     },
     "execution_count": 5,
     "metadata": {},
     "output_type": "execute_result"
    }
   ],
   "source": [
    "frase[44:66]"
   ]
  },
  {
   "cell_type": "markdown",
   "metadata": {},
   "source": [
    "### Ejercicio 3\n",
    "- Obtener la sección **\"confies en un ordenador\"** haciando slicing de derecha a izquierda, utilizando indexing negativo."
   ]
  },
  {
   "cell_type": "code",
   "execution_count": 9,
   "metadata": {},
   "outputs": [
    {
     "data": {
      "text/plain": [
       "' confies en un ordenador'"
      ]
     },
     "execution_count": 9,
     "metadata": {},
     "output_type": "execute_result"
    }
   ],
   "source": [
    "frase[-78:-54]"
   ]
  },
  {
   "cell_type": "markdown",
   "metadata": {},
   "source": [
    "### Ejercicio 4\n",
    "Haciendo slicing de la variable **frase**:\n",
    "\n",
    "1. Guardar en la variable: **subfrase1** la siguiente sección: **\"un ordenador\"**.\n",
    "2. Guardar en la variable: **subfrase2** la siguiente sección: **\"por una ventanza\"**.\n",
    "3. Guardar en la variable: **subfrase3** la siguiente sección: **\"Steve Wozniak\"**.\n",
    "\n",
    "\n",
    "- Crear la siguiente frase utilizando las variables: **subfrase1**, **subfrase2**, **subfrase3**: **\"un ordenador, por una ventana -- Steve Wozniak\"** y guardarla en una variable. Añade los caracteres que hagan falta para completar la cadena usando _**format**_. Guarda esta frase en la variable **nueva_frase**."
   ]
  },
  {
   "cell_type": "code",
   "execution_count": 10,
   "metadata": {},
   "outputs": [
    {
     "name": "stdout",
     "output_type": "stream",
     "text": [
      "un ordenador,por una ventana--Steve Wozniak\n"
     ]
    }
   ],
   "source": [
    "subfrase1 = \"un ordenador\"\n",
    "subfrase2 = \"por una ventana\"\n",
    "subfrase3 = \"Steve Wozniak\"\n",
    "\n",
    "print(subfrase1 + \",\" + subfrase2 + \"--\" + subfrase3)"
   ]
  }
 ],
 "metadata": {
  "kernelspec": {
   "display_name": "Python 3",
   "language": "python",
   "name": "python3"
  },
  "language_info": {
   "codemirror_mode": {
    "name": "ipython",
    "version": 3
   },
   "file_extension": ".py",
   "mimetype": "text/x-python",
   "name": "python",
   "nbconvert_exporter": "python",
   "pygments_lexer": "ipython3",
   "version": "3.12.3"
  }
 },
 "nbformat": 4,
 "nbformat_minor": 2
}
