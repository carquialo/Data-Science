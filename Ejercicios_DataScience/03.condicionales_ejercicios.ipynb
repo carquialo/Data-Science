{
 "cells": [
  {
   "cell_type": "markdown",
   "id": "cc6f0931",
   "metadata": {},
   "source": [
    "## Ejecicios - Condicionales"
   ]
  },
  {
   "cell_type": "markdown",
   "id": "45bf39fc",
   "metadata": {},
   "source": [
    "### Ejercicio 1\n",
    "\n",
    "- Perdirle al usuario que ingrese un número mayor a 0\n",
    "- Luego que imprima por pantalla si el número es par o impar."
   ]
  },
  {
   "cell_type": "code",
   "execution_count": null,
   "id": "ce78094c",
   "metadata": {},
   "outputs": [],
   "source": [
    "\n",
    "# Crear un bucle while True que pida el número hasta que esté bien (hace break y sales del bucle) y sea mayor que 0\n",
    "\n",
    "while True:\n",
    "    try:\n",
    "        numero = int(input(\"Ingrese un número mayor que 0\"))\n",
    "        if numero > 0 and numero < 50:\n",
    "            break\n",
    "    except ValueError:\n",
    "        pass # ignoramos el error no hacemos nada con él. Se podría utilizar un logger para imprimir un error formateado\n",
    "        \n",
    "    print(\"numero incorrecto\")\n",
    "\n",
    "   \n",
    "print(numero)\n",
    "if numero % 2 == 0:\n",
    "    print(\"numero par\")\n",
    "else:\n",
    "    print(\"numero impar\")\n",
    "\n",
    "# print(numero)\n",
    "# print(type(numero))\n",
    "# if numero > 0:\n",
    "#    print(\"El numero es mayor que cero, muy bien\")\n",
    "\n",
    "# Imprimir si el numero es par o impar con if else"
   ]
  },
  {
   "cell_type": "code",
   "execution_count": null,
   "id": "6fe828f0",
   "metadata": {},
   "outputs": [],
   "source": [
    "while True:\n",
    "    try:\n",
    "\n",
    "        numero = input(\"Ingrese un número mayor que 0: \")\n",
    "        \n",
    "        if not numero.strip():\n",
    "            \n",
    "            print(\"Entrada vacía. Por favor, ingrese un número válido.\")      \n",
    "          \n",
    "        numero = int(numero)\n",
    "        \n",
    "        if numero > 0:\n",
    "            break \n",
    "        else:\n",
    "            print(\"El número debe ser mayor que 0. Inténtalo de nuevo.\")\n",
    "            \n",
    "    except ValueError:\n",
    "        \n",
    "        print(\"Entrada no válida. Por favor, ingrese un número entero.\")\n",
    "\n",
    "if numero % 2 == 0:\n",
    "    print(f\"El número {numero} es par.\")\n",
    "else:\n",
    "    print(f\"El número {numero} es impar.\")"
   ]
  },
  {
   "cell_type": "code",
   "execution_count": null,
   "id": "4047176c",
   "metadata": {},
   "outputs": [],
   "source": []
  },
  {
   "cell_type": "code",
   "execution_count": null,
   "id": "b98b7cc7",
   "metadata": {},
   "outputs": [],
   "source": []
  },
  {
   "cell_type": "markdown",
   "id": "50f7c887",
   "metadata": {},
   "source": [
    "### Ejercicio 2\n",
    "- Pedirle al usuario que ingrese una palabra.\n",
    "- Contar el número de letras y decir si es una palabra larga (10 caracteres o más) o corta."
   ]
  },
  {
   "cell_type": "code",
   "execution_count": null,
   "id": "dd695bac",
   "metadata": {},
   "outputs": [],
   "source": [
    "frase = input(\"Introduzca una frase: \")\n",
    "\n",
    "numeros_letras = len(frase)\n",
    "\n",
    "if numeros_letras >= 10:\n",
    "    print(f\"La frase -- {frase} -- es larga\")\n",
    "else :\n",
    "    print(f\"La frase -- {frase} -- es corta\")\n"
   ]
  },
  {
   "cell_type": "markdown",
   "id": "c3b58038",
   "metadata": {},
   "source": [
    "### Ejercicio 3\n",
    "- Pedirle al usuario que ingrese una palabra.\n",
    "- Contar cuantas vocales tiene e imprimir cuantas hay de cada una.\n",
    "- Luego imprimir por pantalla si tiene más vocales que consonantes."
   ]
  },
  {
   "cell_type": "code",
   "execution_count": 15,
   "id": "e31e702d",
   "metadata": {},
   "outputs": [
    {
     "name": "stdout",
     "output_type": "stream",
     "text": [
      "Cantidad de vocales en la palabra: joe\n",
      "a: 0\n",
      "e: 1\n",
      "i: 0\n",
      "o: 1\n",
      "u: 0\n",
      "La palabra tiene más vocales que consonantes.\n"
     ]
    }
   ],
   "source": [
    "palabra = input(\"Introduzca una palabra : \").lower()\n",
    "\n",
    "# Inicializar contadores para cada vocal\n",
    "vocales = {\"a\": 0, \"e\": 0, \"i\": 0, \"o\": 0, \"u\": 0}\n",
    "\n",
    "# Contar vocales y consonantes\n",
    "total_vocales = 0\n",
    "total_consonantes = 0\n",
    "\n",
    "for letra in palabra:\n",
    "    if letra in vocales:\n",
    "        vocales[letra] += 1\n",
    "        total_vocales += 1\n",
    "    elif letra.isalpha():  # Verificar si es una letra (consonante)\n",
    "        total_consonantes += 1\n",
    "\n",
    "# Imprimir cuántas vocales hay de cada tipo\n",
    "print(\"Cantidad de vocales en la palabra:\", palabra)\n",
    "for vocal, cantidad in vocales.items():\n",
    "    print(f\"{vocal}: {cantidad}\")\n",
    "\n",
    "# Determinar si hay más vocales que consonantes\n",
    "if total_vocales > total_consonantes:\n",
    "    print(\"La palabra tiene más vocales que consonantes.\")\n",
    "elif total_vocales < total_consonantes:\n",
    "    print(\"La palabra tiene más consonantes que vocales.\")\n",
    "else:\n",
    "    print(\"La palabra tiene igual número de vocales y consonantes.\")\n"
   ]
  },
  {
   "cell_type": "markdown",
   "id": "c075c77b",
   "metadata": {},
   "source": [
    "### Ejercicio 4\n",
    "- Pedir al usuario que ingrese una frase.\n",
    "- Contar el número de palabras.\n",
    "- Si el número de palabras es impar imprimir \"El número de palabras es impar\" de lo contrario imprimir \"El número de palabras es par\"."
   ]
  },
  {
   "cell_type": "code",
   "execution_count": 7,
   "id": "67962e21",
   "metadata": {},
   "outputs": [
    {
     "name": "stdout",
     "output_type": "stream",
     "text": [
      "La frase -- hola -- es par.\n"
     ]
    }
   ],
   "source": [
    "palabra = input(\"Ingrese una frase: \")\n",
    "numero_frase = len(palabra.split())\n",
    "if numero_frase % 1 == 1:\n",
    "    print(f\"La frase -- {palabra}-- es impar.\")\n",
    "else:\n",
    "    print(f\"La frase -- {palabra} -- es par.\")\n",
    "    \n"
   ]
  },
  {
   "cell_type": "code",
   "execution_count": null,
   "id": "0cdfdbbd",
   "metadata": {},
   "outputs": [],
   "source": []
  },
  {
   "cell_type": "code",
   "execution_count": null,
   "id": "8c1baece",
   "metadata": {},
   "outputs": [],
   "source": []
  },
  {
   "cell_type": "code",
   "execution_count": null,
   "id": "38fb44c7",
   "metadata": {},
   "outputs": [],
   "source": [
    "##############################################################################################################################"
   ]
  }
 ],
 "metadata": {
  "kernelspec": {
   "display_name": "Python 3",
   "language": "python",
   "name": "python3"
  },
  "language_info": {
   "codemirror_mode": {
    "name": "ipython",
    "version": 3
   },
   "file_extension": ".py",
   "mimetype": "text/x-python",
   "name": "python",
   "nbconvert_exporter": "python",
   "pygments_lexer": "ipython3",
   "version": "3.12.3"
  }
 },
 "nbformat": 4,
 "nbformat_minor": 5
}
